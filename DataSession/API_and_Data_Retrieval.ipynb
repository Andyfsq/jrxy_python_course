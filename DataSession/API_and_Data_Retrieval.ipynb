{
 "cells": [
  {
   "cell_type": "markdown",
   "metadata": {},
   "source": [
    "### API\n",
    "\n",
    "\n",
    "#### What is API\n",
    "\n",
    "API stands for **Application Programming Interface**. An API is a software intermediary that allows two applications to talk to each other.  In other words, an API is the messenger that delivers your request to the provider that you’re requesting it from and then delivers the response back to you.\n",
    "\n",
    "#### How do APIs work?\n",
    "Imagine a waiter in a restaurant.  You, the customer, are sitting at the table with a menu of choices to order from, and the kitchen is the provider who will fulfill your order.\n",
    "\n",
    "You need a link to communicate your order to the kitchen and then to deliver your food back to your table. It can’t be the chef because she’s cooking in the kitchen. You need something to connect the customer who’s ordering food and the chef who prepares it.  That’s where the **waiter** — or the **API** —  enters the picture.\n",
    "\n",
    "The waiter takes your order, delivers it to the kitchen, telling the kitchen what to do. It then delivers the response, in this case, the food, back to you. Moreover, if the API is designed correctly, hopefully, your order won’t crash!\n",
    "\n",
    "#### A real example of an API\n",
    "\n",
    "How are APIs used in the real world? Here’s a very common scenario of the API economy at work: booking a flight.\n",
    "\n",
    "When you search for flights online, you have a menu of options to choose from. You choose a departure city and date, a return city and date, cabin class, and other variables like your meal, your seat, or baggage requests.\n",
    "\n",
    "To book your flight, you need to interact with the airline’s website to access the airline’s database to see if any seats are available on those dates, and what the cost might be based on the date, flight time, route popularity, etc.\n",
    "\n",
    "You need access to that information from the airline’s database, whether you’re interacting with it from the website or an online travel service that aggregates information from multiple airlines. Alternatively, you might be accessing the information from a mobile phone. In any case, you need to get the information, and so the application must interact with the airline’s API, giving it access to the airline’s data.\n",
    "\n",
    "**APIs provide a standard way of accessing any application data, or device**"
   ]
  },
  {
   "cell_type": "markdown",
   "metadata": {},
   "source": [
    "### List of API \n",
    "\n",
    "- Pandas_datareader\n",
    "- Fixer.io\n",
    "- 阿凡达云数据\n",
    "- Tushare"
   ]
  },
  {
   "cell_type": "markdown",
   "metadata": {},
   "source": [
    "### Pandas_datareader\n",
    "\n",
    "#### Install \n",
    "pip install pandas-datareader\n",
    "\n",
    "#### Data Readers\n",
    "- AlphaVantage\n",
    "- Federal Reserve Economic Data (FRED)\n",
    "- Fama-French Data (Ken French’s Data Library)\n",
    "- Bank of Canada\n",
    "- Econdb\n",
    "- Enigma\n",
    "- Eurostat\n",
    "- The Investors Exchange (IEX)\n",
    "- Moscow Exchange (MOEX)\n",
    "- NASDAQ\n",
    "- Naver Finance\n",
    "- Organisation for Economic Co-operation and Development (OECD)\n",
    "- Quandl\n",
    "- Stooq.com\n",
    "- Tiingo\n",
    "- Thrift Savings Plan (TSP)\n",
    "- World Bank\n",
    "\n",
    "You may not be able to use all datasets. \n",
    "\n",
    "Please refer to its Github Repo for more details: [link here](https://pandas-datareader.readthedocs.io/en/latest/readers/index.html)"
   ]
  },
  {
   "cell_type": "markdown",
   "metadata": {},
   "source": [
    "#### Data from FRED St.Louis"
   ]
  },
  {
   "cell_type": "code",
   "execution_count": 1,
   "metadata": {},
   "outputs": [
    {
     "data": {
      "text/html": [
       "<div>\n",
       "<style scoped>\n",
       "    .dataframe tbody tr th:only-of-type {\n",
       "        vertical-align: middle;\n",
       "    }\n",
       "\n",
       "    .dataframe tbody tr th {\n",
       "        vertical-align: top;\n",
       "    }\n",
       "\n",
       "    .dataframe thead th {\n",
       "        text-align: right;\n",
       "    }\n",
       "</style>\n",
       "<table border=\"1\" class=\"dataframe\">\n",
       "  <thead>\n",
       "    <tr style=\"text-align: right;\">\n",
       "      <th></th>\n",
       "      <th>GS10</th>\n",
       "    </tr>\n",
       "    <tr>\n",
       "      <th>DATE</th>\n",
       "      <th></th>\n",
       "    </tr>\n",
       "  </thead>\n",
       "  <tbody>\n",
       "    <tr>\n",
       "      <th>2015-11-01</th>\n",
       "      <td>2.26</td>\n",
       "    </tr>\n",
       "    <tr>\n",
       "      <th>2015-12-01</th>\n",
       "      <td>2.24</td>\n",
       "    </tr>\n",
       "    <tr>\n",
       "      <th>2016-01-01</th>\n",
       "      <td>2.09</td>\n",
       "    </tr>\n",
       "    <tr>\n",
       "      <th>2016-02-01</th>\n",
       "      <td>1.78</td>\n",
       "    </tr>\n",
       "    <tr>\n",
       "      <th>2016-03-01</th>\n",
       "      <td>1.89</td>\n",
       "    </tr>\n",
       "  </tbody>\n",
       "</table>\n",
       "</div>"
      ],
      "text/plain": [
       "            GS10\n",
       "DATE            \n",
       "2015-11-01  2.26\n",
       "2015-12-01  2.24\n",
       "2016-01-01  2.09\n",
       "2016-02-01  1.78\n",
       "2016-03-01  1.89"
      ]
     },
     "execution_count": 1,
     "metadata": {},
     "output_type": "execute_result"
    }
   ],
   "source": [
    "import pandas_datareader as pdr\n",
    "pd = pdr.get_data_fred('GS10')\n",
    "pd.head()"
   ]
  },
  {
   "cell_type": "code",
   "execution_count": 2,
   "metadata": {},
   "outputs": [
    {
     "data": {
      "text/html": [
       "<div>\n",
       "<style scoped>\n",
       "    .dataframe tbody tr th:only-of-type {\n",
       "        vertical-align: middle;\n",
       "    }\n",
       "\n",
       "    .dataframe tbody tr th {\n",
       "        vertical-align: top;\n",
       "    }\n",
       "\n",
       "    .dataframe thead th {\n",
       "        text-align: right;\n",
       "    }\n",
       "</style>\n",
       "<table border=\"1\" class=\"dataframe\">\n",
       "  <thead>\n",
       "    <tr style=\"text-align: right;\">\n",
       "      <th></th>\n",
       "      <th>GDP</th>\n",
       "    </tr>\n",
       "    <tr>\n",
       "      <th>DATE</th>\n",
       "      <th></th>\n",
       "    </tr>\n",
       "  </thead>\n",
       "  <tbody>\n",
       "    <tr>\n",
       "      <th>2015-01-01</th>\n",
       "      <td>18003.399</td>\n",
       "    </tr>\n",
       "    <tr>\n",
       "      <th>2015-04-01</th>\n",
       "      <td>18223.577</td>\n",
       "    </tr>\n",
       "    <tr>\n",
       "      <th>2015-07-01</th>\n",
       "      <td>18347.425</td>\n",
       "    </tr>\n",
       "    <tr>\n",
       "      <th>2015-10-01</th>\n",
       "      <td>18378.803</td>\n",
       "    </tr>\n",
       "    <tr>\n",
       "      <th>2016-01-01</th>\n",
       "      <td>18470.156</td>\n",
       "    </tr>\n",
       "  </tbody>\n",
       "</table>\n",
       "</div>"
      ],
      "text/plain": [
       "                  GDP\n",
       "DATE                 \n",
       "2015-01-01  18003.399\n",
       "2015-04-01  18223.577\n",
       "2015-07-01  18347.425\n",
       "2015-10-01  18378.803\n",
       "2016-01-01  18470.156"
      ]
     },
     "execution_count": 2,
     "metadata": {},
     "output_type": "execute_result"
    }
   ],
   "source": [
    "import pandas_datareader.data as web\n",
    "import datetime\n",
    "start = datetime.datetime(2015,1,1)\n",
    "end = datetime.datetime(2020,1,1)\n",
    "gdp = web.DataReader('GDP', 'fred', start, end)\n",
    "gdp.head()"
   ]
  },
  {
   "cell_type": "markdown",
   "metadata": {},
   "source": [
    "#### Data from Yahoo"
   ]
  },
  {
   "cell_type": "code",
   "execution_count": 3,
   "metadata": {},
   "outputs": [
    {
     "data": {
      "text/html": [
       "<div>\n",
       "<style scoped>\n",
       "    .dataframe tbody tr th:only-of-type {\n",
       "        vertical-align: middle;\n",
       "    }\n",
       "\n",
       "    .dataframe tbody tr th {\n",
       "        vertical-align: top;\n",
       "    }\n",
       "\n",
       "    .dataframe thead th {\n",
       "        text-align: right;\n",
       "    }\n",
       "</style>\n",
       "<table border=\"1\" class=\"dataframe\">\n",
       "  <thead>\n",
       "    <tr style=\"text-align: right;\">\n",
       "      <th></th>\n",
       "      <th>High</th>\n",
       "      <th>Low</th>\n",
       "      <th>Open</th>\n",
       "      <th>Close</th>\n",
       "      <th>Volume</th>\n",
       "      <th>Adj Close</th>\n",
       "    </tr>\n",
       "    <tr>\n",
       "      <th>Date</th>\n",
       "      <th></th>\n",
       "      <th></th>\n",
       "      <th></th>\n",
       "      <th></th>\n",
       "      <th></th>\n",
       "      <th></th>\n",
       "    </tr>\n",
       "  </thead>\n",
       "  <tbody>\n",
       "    <tr>\n",
       "      <th>2020-10-23</th>\n",
       "      <td>116.550003</td>\n",
       "      <td>114.279999</td>\n",
       "      <td>116.389999</td>\n",
       "      <td>115.040001</td>\n",
       "      <td>82572600.0</td>\n",
       "      <td>115.040001</td>\n",
       "    </tr>\n",
       "    <tr>\n",
       "      <th>2020-10-26</th>\n",
       "      <td>116.550003</td>\n",
       "      <td>112.879997</td>\n",
       "      <td>114.010002</td>\n",
       "      <td>115.050003</td>\n",
       "      <td>111850700.0</td>\n",
       "      <td>115.050003</td>\n",
       "    </tr>\n",
       "    <tr>\n",
       "      <th>2020-10-27</th>\n",
       "      <td>117.279999</td>\n",
       "      <td>114.540001</td>\n",
       "      <td>115.489998</td>\n",
       "      <td>116.599998</td>\n",
       "      <td>92276800.0</td>\n",
       "      <td>116.599998</td>\n",
       "    </tr>\n",
       "    <tr>\n",
       "      <th>2020-10-28</th>\n",
       "      <td>115.430000</td>\n",
       "      <td>111.099998</td>\n",
       "      <td>115.050003</td>\n",
       "      <td>111.199997</td>\n",
       "      <td>143525000.0</td>\n",
       "      <td>111.199997</td>\n",
       "    </tr>\n",
       "    <tr>\n",
       "      <th>2020-10-29</th>\n",
       "      <td>115.328499</td>\n",
       "      <td>112.279999</td>\n",
       "      <td>112.370003</td>\n",
       "      <td>115.143997</td>\n",
       "      <td>61523716.0</td>\n",
       "      <td>115.143997</td>\n",
       "    </tr>\n",
       "  </tbody>\n",
       "</table>\n",
       "</div>"
      ],
      "text/plain": [
       "                  High         Low        Open       Close       Volume  \\\n",
       "Date                                                                      \n",
       "2020-10-23  116.550003  114.279999  116.389999  115.040001   82572600.0   \n",
       "2020-10-26  116.550003  112.879997  114.010002  115.050003  111850700.0   \n",
       "2020-10-27  117.279999  114.540001  115.489998  116.599998   92276800.0   \n",
       "2020-10-28  115.430000  111.099998  115.050003  111.199997  143525000.0   \n",
       "2020-10-29  115.328499  112.279999  112.370003  115.143997   61523716.0   \n",
       "\n",
       "             Adj Close  \n",
       "Date                    \n",
       "2020-10-23  115.040001  \n",
       "2020-10-26  115.050003  \n",
       "2020-10-27  116.599998  \n",
       "2020-10-28  111.199997  \n",
       "2020-10-29  115.143997  "
      ]
     },
     "execution_count": 3,
     "metadata": {},
     "output_type": "execute_result"
    }
   ],
   "source": [
    "# Get data from Yahoo\n",
    "import pandas_datareader.data as web\n",
    "import datetime\n",
    "start = datetime.datetime(2019, 1, 1) # or start = '1/1/2016'\n",
    "end = datetime.date.today()\n",
    "prices = web.DataReader('AAPL', 'yahoo', start, end)\n",
    "prices.tail()"
   ]
  },
  {
   "cell_type": "markdown",
   "metadata": {},
   "source": [
    "#### 有用的命令 requests\n",
    "\n",
    "The requests module allows you to send HTTP requests using Python.\n",
    "\n",
    "The HTTP request returns a `Response Object` with all the response data (content, encoding, status, etc).\n",
    "\n",
    "\n",
    "Detail: https://www.w3schools.com/python/module_requests.asp"
   ]
  },
  {
   "cell_type": "markdown",
   "metadata": {},
   "source": [
    "#### JSON\n",
    "\n",
    "JSON(JavaScript Object Notation, JS 对象简谱) 是一种轻量级的数据交换格式。它基于 ECMAScript (欧洲计算机协会制定的js规范)的一个子集，采用完全独立于编程语言的文本格式来存储和表示数据。简洁和清晰的层次结构使得 JSON 成为理想的数据交换语言。 易于人阅读和编写，同时也易于机器解析和生成，并有效地提升网络传输效率。"
   ]
  },
  {
   "cell_type": "markdown",
   "metadata": {},
   "source": [
    "#### Fixer.io\n",
    "\n",
    "Powered by 15+ exchange rate data sources, the Fixer API is capable of delivering real-time exchange rate data for 170 world currencies. The API comes with multiple endpoints, each serving a different use case. Endpoint functionalities include getting the latest exchange rate data for all or a specific set of currencies, converting amounts from one currency to another, retrieving Time-Series data for one or multiple currencies and querying the API for daily fluctuation data.\n",
    "\n",
    "https://fixer.io/quickstart\n",
    "\n",
    "You need to sign in and get an access key to kick off "
   ]
  },
  {
   "cell_type": "code",
   "execution_count": 4,
   "metadata": {},
   "outputs": [
    {
     "name": "stdin",
     "output_type": "stream",
     "text": [
      "Please input a date with a proper format YYYY-MM-DD: 2020-01-01\n"
     ]
    },
    {
     "name": "stdout",
     "output_type": "stream",
     "text": [
      "Exchange Rate on 2020-01-01:\n",
      "1 USD = 1.12183 EUR\n",
      "1 AUD = 1.598259 EUR\n",
      "1 CAD = 1.45563 EUR\n",
      "1 CNY = 7.811525 EUR\n",
      "1 CHF = 1.085595 EUR\n",
      "1 GBP = 0.846759 EUR\n",
      "1 HKD = 8.742138 EUR\n"
     ]
    }
   ],
   "source": [
    "def get_fixer_hist(date, symbols = 'USD,AUD,CAD,CNY,CHF,GBP,HKD'):\n",
    "    import requests\n",
    "    import json\n",
    "    # get the data from Fixer.io the \n",
    "    # You need to sign in to obtain a free access_key \n",
    "    access_key = '0287efab831449699ce8333ec5307d00'\n",
    "    root_url = 'http://data.fixer.io/api/'\n",
    "    # Make the URL\n",
    "    url = root_url + date +'?'+ 'access_key='+ access_key + '&symbols=' + symbols + '&format=1'\n",
    "    # Creat a header\n",
    "    headers = {'User-Agent': 'Mozilla/5.0 (Windows; U; Windows NT 6.1; en-US) AppleWebKit/534.16 (KHTML, like Gecko) Chrome/10.0.648.133 Safari/534.16'}\n",
    "    # request data from API\n",
    "    res = requests.get(url, headers = headers)\n",
    "    # Get content, in case of Chinese we need to encode\n",
    "    content = res.text\n",
    "    # Load JSON data\n",
    "    dcon = json.loads(content)\n",
    "    return dcon['date'], dcon['rates'], url\n",
    "\n",
    "dat = input('Please input a date with a proper format YYYY-MM-DD:')\n",
    "date, rates, url = get_fixer_hist(dat)\n",
    "print('Exchange Rate on {}:'.format(date))\n",
    "for key,values in rates.items():\n",
    "    print('1 '+ key +' = '+ str(values) +' EUR')"
   ]
  },
  {
   "cell_type": "markdown",
   "metadata": {},
   "source": [
    "#### 阿凡达云数据平台\n",
    "\n",
    "http://api.avatardata.cn/ActNews/Query?key=3c901762cd104a2793df344b6015ff00&keyword="
   ]
  },
  {
   "cell_type": "code",
   "execution_count": 5,
   "metadata": {},
   "outputs": [
    {
     "name": "stdin",
     "output_type": "stream",
     "text": [
      "想听谁的八卦: 拜登\n"
     ]
    },
    {
     "name": "stdout",
     "output_type": "stream",
     "text": [
      "拜登幕僚:拜登若当选 将与盟友联手打压中国贸易  2020-10-29 17:01:12\n",
      "拜登完成2020年美国大选投票  2020-10-29 09:57:55\n",
      "拜登誓言要在上任100天内通过《平等法案》  2020-10-29 08:21:00\n",
      "路透:如果拜登当选 他将首先与美国盟友磋商贸易问题  2020-10-29 12:12:00\n"
     ]
    }
   ],
   "source": [
    "def avatardata(keyword):\n",
    "    import requests\n",
    "    import json\n",
    "    \n",
    "    access_key = '3c901762cd104a2793df344b6015ff00'\n",
    "    root_url = 'http://api.avatardata.cn/ActNews/Query?'\n",
    "    url = root_url + 'key=' + access_key + '&keyword=' + keyword\n",
    "    headers = {'User-Agent': 'Mozilla/5.0 (Windows; U; Windows NT 6.1; en-US) AppleWebKit/534.16 (KHTML, like Gecko) Chrome/10.0.648.133 Safari/534.16'}\n",
    "    # request data from API\n",
    "    res = requests.get(url, headers = headers)\n",
    "    # Get content, in case of Chinese we need to encode\n",
    "    content = res.text\n",
    "    # Load JSON data\n",
    "    dcon = json.loads(content)\n",
    "    return dcon['result'], url\n",
    "\n",
    "keyword = input('想听谁的八卦:')\n",
    "res, url = avatardata(keyword)\n",
    "\n",
    "for r in res:\n",
    "    print(r['full_title'] +'  '+ r['pdate_src'] ) "
   ]
  },
  {
   "cell_type": "markdown",
   "metadata": {},
   "source": [
    "### Tushare\n",
    "\n",
    "tushare.pro \n",
    "\n"
   ]
  },
  {
   "cell_type": "code",
   "execution_count": 1,
   "metadata": {},
   "outputs": [],
   "source": [
    "import tushare as ts\n",
    "\n",
    "tushare_token = '1c8b06446534ae510c8c68e38fc248b99f89ac3814cb55645ae2be72'  # 请在 tushare.pro 网站注册并且告知学生身份，可以取得你的token\n",
    "pro = ts.pro_api(tushare_token)\n",
    "\n",
    "\n",
    "df = pro.fund_company()\n"
   ]
  },
  {
   "cell_type": "code",
   "execution_count": null,
   "metadata": {},
   "outputs": [],
   "source": []
  },
  {
   "cell_type": "markdown",
   "metadata": {},
   "source": [
    "### Homework\n",
    "\n",
    "#### OECD\n",
    "\n",
    "https://stats.oecd.org/\n",
    "\n",
    "The OECD has application programming interfaces (APIs) that provide access to datasets in the catalogue of OECD databases.\n",
    "\n",
    "Please see the instruction of API as follows\n",
    "\n",
    "https://data.oecd.org/api/sdmx-json-documentation/"
   ]
  },
  {
   "cell_type": "code",
   "execution_count": null,
   "metadata": {},
   "outputs": [],
   "source": []
  }
 ],
 "metadata": {
  "kernelspec": {
   "display_name": "Python 3",
   "language": "python",
   "name": "python3"
  },
  "language_info": {
   "codemirror_mode": {
    "name": "ipython",
    "version": 3
   },
   "file_extension": ".py",
   "mimetype": "text/x-python",
   "name": "python",
   "nbconvert_exporter": "python",
   "pygments_lexer": "ipython3",
   "version": "3.7.0"
  }
 },
 "nbformat": 4,
 "nbformat_minor": 4
}
