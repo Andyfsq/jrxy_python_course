{
 "cells": [
  {
   "cell_type": "markdown",
   "id": "e6311fb3",
   "metadata": {},
   "source": [
    "<div align='center' ><font size='5'>浙江工商大学2021/2022学年第一学期考试试卷(A)</font></div>\n",
    "\n",
    "\n",
    "\n",
    "课程名称： **Python在金融中的应用**    考试方式：**独立作业**\n",
    "\n",
    "班级名称：______     学号：______      姓名： ______  \n",
    "\n",
    "| 题号 | 一   | 二   | 三   | 四   | 合计 |\n",
    "| ---- | ---- | ---- | ---- | ---- | ---- |\n",
    "| 满分 | 25   | 25   | 20   | 30   | 100  |\n",
    "| 得分 |      |      |      |      |      |\n",
    "\n",
    "\n",
    "\n",
    "**注意事项：**\n",
    "\n",
    "1. 请大家务必独立完成，独立大作业视作考试，请不要抄袭。\n",
    "\n",
    "2. 判分会综合考虑代码和运行结果，因此如果运行结果发生问题，可以仅提供代码。注意：没有代码过程的结果不给分。\n",
    "\n",
    "3. 请尽可能给代码加上注释。作图的结果请不要用截图，可以使用插入图片的方式。 \n",
    "\n",
    "4. 在完成作业要求的基础上，鼓励大家根据自己的理解做适当的拓展，并请在代码上做出明确的注释。\n",
    "\n",
    "5. 请大家注意版面的整洁和清晰程度，鼓励大家使用Markdown模板，也可以使用Word模板。电子版务必转成pdf格式(在浏览器中使用Ctrl+P即可完成打印到PDF)。 \n",
    "\n",
    "    \n",
    "\n",
    "   **作业最晚提交时间： 2021年1月6日中午12点   烦请每个班派一位代表联系我，将纸质版和电子版的作业交至我处。**\n",
    "\n",
    "\n",
    "\n",
    "数据： \n",
    "\n",
    "- 50只个股2020年1月1日至2021年12月10日的价格信息（开盘价、收盘价、最高价、最低价、成交量） stock_info.xls\n",
    "\n",
    "- 50只基金2020年1月1日至2021年12月10日的价格信息（基金净值） fund_info.xls\n",
    "\n",
    "- 沪深300指数2020年1月1日至2021年12月10日的数据  index_info.xls\n",
    "\n",
    "下载链接：\n",
    "\n",
    "link "
   ]
  },
  {
   "cell_type": "markdown",
   "id": "446a648b",
   "metadata": {},
   "source": [
    "\n",
    "**作业一：**\n",
    "\n",
    "1.1 读取数据至python，要求使用numpy的相应函数。（5%）"
   ]
  },
  {
   "cell_type": "code",
   "execution_count": null,
   "id": "eaea1457",
   "metadata": {},
   "outputs": [],
   "source": []
  },
  {
   "cell_type": "markdown",
   "id": "2ea6963b",
   "metadata": {},
   "source": [
    "1.2 计算5个基金（任选）在样本期（2020年1月1日至2021年12月10日）的年化收益率，要求使用numpy的相应函数完成。 （10%）"
   ]
  },
  {
   "cell_type": "code",
   "execution_count": null,
   "id": "6cbf258c",
   "metadata": {},
   "outputs": [],
   "source": []
  },
  {
   "cell_type": "markdown",
   "id": "77889b97",
   "metadata": {},
   "source": [
    "1.3 计算5个股票（任选）在样本期（2020年1月1日至2021年12月10日）的波动率，可使用方差表示，要求使用numpy的相应函数完成。（10%）"
   ]
  },
  {
   "cell_type": "code",
   "execution_count": null,
   "id": "fdc26af8",
   "metadata": {},
   "outputs": [],
   "source": []
  },
  {
   "cell_type": "code",
   "execution_count": null,
   "id": "bfb7cffe",
   "metadata": {},
   "outputs": [],
   "source": []
  }
 ],
 "metadata": {
  "kernelspec": {
   "display_name": "Python 3",
   "language": "python",
   "name": "python3"
  },
  "language_info": {
   "codemirror_mode": {
    "name": "ipython",
    "version": 3
   },
   "file_extension": ".py",
   "mimetype": "text/x-python",
   "name": "python",
   "nbconvert_exporter": "python",
   "pygments_lexer": "ipython3",
   "version": "3.8.8"
  }
 },
 "nbformat": 4,
 "nbformat_minor": 5
}
